{
 "cells": [
  {
   "cell_type": "markdown",
   "metadata": {},
   "source": [
    "💾 The data\n",
    "You have access to a real dataset containing dinosaur records from the Paleobiology Database (source):\n",
    "Column name\tDescription\n",
    "occurence_no\tThe original occurrence number from the Paleobiology Database.\n",
    "name\tThe accepted name of the dinosaur (usually the genus name, or the name of the footprint/egg fossil).\n",
    "diet\tThe main diet (omnivorous, carnivorous, herbivorous).\n",
    "type\tThe dinosaur type (small theropod, large theropod, sauropod, ornithopod, ceratopsian, armored dinosaur).\n",
    "length_m\tThe maximum length, from head to tail, in meters.\n",
    "max_ma\tThe age in which the first fossil records of the dinosaur where found, in million years.\n",
    "min_ma\tThe age in which the last fossil records of the dinosaur where found, in million years.\n",
    "region\tThe current region where the fossil record was found.\n",
    "lng\tThe longitude where the fossil record was found.\n",
    "lat\tThe latitude where the fossil record was found.\n",
    "class\tThe taxonomical class of the dinosaur (Saurischia or Ornithischia).\n",
    "family\tThe taxonomical family of the dinosaur (if known).\n",
    "The data was enriched with data from Wikipedia."
   ]
  },
  {
   "cell_type": "code",
   "execution_count": 1,
   "metadata": {},
   "outputs": [],
   "source": [
    "# Import the pandas and numpy packages\n",
    "import pandas as pd\n",
    "import numpy as np\n",
    "# Load the data\n",
    "dinosaurs = pd.read_csv('dinosaurs.csv')"
   ]
  },
  {
   "cell_type": "code",
   "execution_count": 2,
   "metadata": {},
   "outputs": [
    {
     "data": {
      "text/html": [
       "<div>\n",
       "<style scoped>\n",
       "    .dataframe tbody tr th:only-of-type {\n",
       "        vertical-align: middle;\n",
       "    }\n",
       "\n",
       "    .dataframe tbody tr th {\n",
       "        vertical-align: top;\n",
       "    }\n",
       "\n",
       "    .dataframe thead th {\n",
       "        text-align: right;\n",
       "    }\n",
       "</style>\n",
       "<table border=\"1\" class=\"dataframe\">\n",
       "  <thead>\n",
       "    <tr style=\"text-align: right;\">\n",
       "      <th></th>\n",
       "      <th>occurrence_no</th>\n",
       "      <th>name</th>\n",
       "      <th>diet</th>\n",
       "      <th>type</th>\n",
       "      <th>length_m</th>\n",
       "      <th>max_ma</th>\n",
       "      <th>min_ma</th>\n",
       "      <th>region</th>\n",
       "      <th>lng</th>\n",
       "      <th>lat</th>\n",
       "      <th>class</th>\n",
       "      <th>family</th>\n",
       "    </tr>\n",
       "  </thead>\n",
       "  <tbody>\n",
       "    <tr>\n",
       "      <th>0</th>\n",
       "      <td>130294</td>\n",
       "      <td>Protarchaeopteryx</td>\n",
       "      <td>omnivorous</td>\n",
       "      <td>small theropod</td>\n",
       "      <td>2.0</td>\n",
       "      <td>130.0</td>\n",
       "      <td>122.46</td>\n",
       "      <td>Liaoning</td>\n",
       "      <td>120.733330</td>\n",
       "      <td>41.799999</td>\n",
       "      <td>Saurischia</td>\n",
       "      <td>Archaeopterygidae</td>\n",
       "    </tr>\n",
       "    <tr>\n",
       "      <th>1</th>\n",
       "      <td>130295</td>\n",
       "      <td>Caudipteryx</td>\n",
       "      <td>omnivorous</td>\n",
       "      <td>small theropod</td>\n",
       "      <td>1.0</td>\n",
       "      <td>130.0</td>\n",
       "      <td>122.46</td>\n",
       "      <td>Liaoning</td>\n",
       "      <td>120.733330</td>\n",
       "      <td>41.799999</td>\n",
       "      <td>Saurischia</td>\n",
       "      <td>Caudipterygidae</td>\n",
       "    </tr>\n",
       "    <tr>\n",
       "      <th>2</th>\n",
       "      <td>139242</td>\n",
       "      <td>Gorgosaurus</td>\n",
       "      <td>carnivorous</td>\n",
       "      <td>large theropod</td>\n",
       "      <td>8.6</td>\n",
       "      <td>83.5</td>\n",
       "      <td>70.60</td>\n",
       "      <td>Alberta</td>\n",
       "      <td>-111.528732</td>\n",
       "      <td>50.740726</td>\n",
       "      <td>Saurischia</td>\n",
       "      <td>Tyrannosauridae</td>\n",
       "    </tr>\n",
       "    <tr>\n",
       "      <th>3</th>\n",
       "      <td>139250</td>\n",
       "      <td>Gorgosaurus</td>\n",
       "      <td>carnivorous</td>\n",
       "      <td>large theropod</td>\n",
       "      <td>8.6</td>\n",
       "      <td>83.5</td>\n",
       "      <td>70.60</td>\n",
       "      <td>Alberta</td>\n",
       "      <td>-111.549347</td>\n",
       "      <td>50.737015</td>\n",
       "      <td>Saurischia</td>\n",
       "      <td>Tyrannosauridae</td>\n",
       "    </tr>\n",
       "    <tr>\n",
       "      <th>4</th>\n",
       "      <td>139252</td>\n",
       "      <td>Gorgosaurus</td>\n",
       "      <td>carnivorous</td>\n",
       "      <td>large theropod</td>\n",
       "      <td>8.6</td>\n",
       "      <td>83.5</td>\n",
       "      <td>70.60</td>\n",
       "      <td>Alberta</td>\n",
       "      <td>-111.564636</td>\n",
       "      <td>50.723866</td>\n",
       "      <td>Saurischia</td>\n",
       "      <td>Tyrannosauridae</td>\n",
       "    </tr>\n",
       "    <tr>\n",
       "      <th>...</th>\n",
       "      <td>...</td>\n",
       "      <td>...</td>\n",
       "      <td>...</td>\n",
       "      <td>...</td>\n",
       "      <td>...</td>\n",
       "      <td>...</td>\n",
       "      <td>...</td>\n",
       "      <td>...</td>\n",
       "      <td>...</td>\n",
       "      <td>...</td>\n",
       "      <td>...</td>\n",
       "      <td>...</td>\n",
       "    </tr>\n",
       "    <tr>\n",
       "      <th>4946</th>\n",
       "      <td>1360627</td>\n",
       "      <td>Isaberrysaura</td>\n",
       "      <td>NaN</td>\n",
       "      <td>NaN</td>\n",
       "      <td>NaN</td>\n",
       "      <td>171.6</td>\n",
       "      <td>168.40</td>\n",
       "      <td>Neuquén</td>\n",
       "      <td>-70.263290</td>\n",
       "      <td>-39.205288</td>\n",
       "      <td>Ornithischia</td>\n",
       "      <td>NaN</td>\n",
       "    </tr>\n",
       "    <tr>\n",
       "      <th>4947</th>\n",
       "      <td>1363632</td>\n",
       "      <td>Stegosaurus</td>\n",
       "      <td>herbivorous</td>\n",
       "      <td>armored dinosaur</td>\n",
       "      <td>9.0</td>\n",
       "      <td>157.3</td>\n",
       "      <td>152.10</td>\n",
       "      <td>Wyoming</td>\n",
       "      <td>-107.816666</td>\n",
       "      <td>44.650002</td>\n",
       "      <td>Ornithischia</td>\n",
       "      <td>Stegosauridae</td>\n",
       "    </tr>\n",
       "    <tr>\n",
       "      <th>4948</th>\n",
       "      <td>1363633</td>\n",
       "      <td>Othnielosaurus</td>\n",
       "      <td>NaN</td>\n",
       "      <td>NaN</td>\n",
       "      <td>NaN</td>\n",
       "      <td>157.3</td>\n",
       "      <td>152.10</td>\n",
       "      <td>Wyoming</td>\n",
       "      <td>-107.816666</td>\n",
       "      <td>44.650002</td>\n",
       "      <td>Ornithischia</td>\n",
       "      <td>NaN</td>\n",
       "    </tr>\n",
       "    <tr>\n",
       "      <th>4949</th>\n",
       "      <td>1364695</td>\n",
       "      <td>Iguanodon</td>\n",
       "      <td>herbivorous</td>\n",
       "      <td>ornithopod</td>\n",
       "      <td>10.0</td>\n",
       "      <td>145.0</td>\n",
       "      <td>139.80</td>\n",
       "      <td>Niedersachsen</td>\n",
       "      <td>9.959357</td>\n",
       "      <td>52.341167</td>\n",
       "      <td>Ornithischia</td>\n",
       "      <td>NaN</td>\n",
       "    </tr>\n",
       "    <tr>\n",
       "      <th>4950</th>\n",
       "      <td>1365108</td>\n",
       "      <td>Luluichnus</td>\n",
       "      <td>NaN</td>\n",
       "      <td>NaN</td>\n",
       "      <td>NaN</td>\n",
       "      <td>139.8</td>\n",
       "      <td>125.00</td>\n",
       "      <td>Western Australia</td>\n",
       "      <td>122.142029</td>\n",
       "      <td>-17.489502</td>\n",
       "      <td>Ornithischia</td>\n",
       "      <td>NaN</td>\n",
       "    </tr>\n",
       "  </tbody>\n",
       "</table>\n",
       "<p>4951 rows × 12 columns</p>\n",
       "</div>"
      ],
      "text/plain": [
       "      occurrence_no               name         diet              type  \\\n",
       "0            130294  Protarchaeopteryx   omnivorous    small theropod   \n",
       "1            130295        Caudipteryx   omnivorous    small theropod   \n",
       "2            139242        Gorgosaurus  carnivorous    large theropod   \n",
       "3            139250        Gorgosaurus  carnivorous    large theropod   \n",
       "4            139252        Gorgosaurus  carnivorous    large theropod   \n",
       "...             ...                ...          ...               ...   \n",
       "4946        1360627      Isaberrysaura          NaN               NaN   \n",
       "4947        1363632        Stegosaurus  herbivorous  armored dinosaur   \n",
       "4948        1363633     Othnielosaurus          NaN               NaN   \n",
       "4949        1364695          Iguanodon  herbivorous        ornithopod   \n",
       "4950        1365108         Luluichnus          NaN               NaN   \n",
       "\n",
       "      length_m  max_ma  min_ma             region         lng        lat  \\\n",
       "0          2.0   130.0  122.46           Liaoning  120.733330  41.799999   \n",
       "1          1.0   130.0  122.46           Liaoning  120.733330  41.799999   \n",
       "2          8.6    83.5   70.60            Alberta -111.528732  50.740726   \n",
       "3          8.6    83.5   70.60            Alberta -111.549347  50.737015   \n",
       "4          8.6    83.5   70.60            Alberta -111.564636  50.723866   \n",
       "...        ...     ...     ...                ...         ...        ...   \n",
       "4946       NaN   171.6  168.40            Neuquén  -70.263290 -39.205288   \n",
       "4947       9.0   157.3  152.10            Wyoming -107.816666  44.650002   \n",
       "4948       NaN   157.3  152.10            Wyoming -107.816666  44.650002   \n",
       "4949      10.0   145.0  139.80      Niedersachsen    9.959357  52.341167   \n",
       "4950       NaN   139.8  125.00  Western Australia  122.142029 -17.489502   \n",
       "\n",
       "             class             family  \n",
       "0       Saurischia  Archaeopterygidae  \n",
       "1       Saurischia    Caudipterygidae  \n",
       "2       Saurischia    Tyrannosauridae  \n",
       "3       Saurischia    Tyrannosauridae  \n",
       "4       Saurischia    Tyrannosauridae  \n",
       "...            ...                ...  \n",
       "4946  Ornithischia                NaN  \n",
       "4947  Ornithischia      Stegosauridae  \n",
       "4948  Ornithischia                NaN  \n",
       "4949  Ornithischia                NaN  \n",
       "4950  Ornithischia                NaN  \n",
       "\n",
       "[4951 rows x 12 columns]"
      ]
     },
     "execution_count": 2,
     "metadata": {},
     "output_type": "execute_result"
    }
   ],
   "source": [
    "# Preview the dataframe\n",
    "dinosaurs"
   ]
  },
  {
   "cell_type": "code",
   "execution_count": 3,
   "metadata": {},
   "outputs": [
    {
     "name": "stdout",
     "output_type": "stream",
     "text": [
      "<class 'pandas.core.frame.DataFrame'>\n",
      "RangeIndex: 4951 entries, 0 to 4950\n",
      "Data columns (total 12 columns):\n",
      " #   Column         Non-Null Count  Dtype  \n",
      "---  ------         --------------  -----  \n",
      " 0   occurrence_no  4951 non-null   int64  \n",
      " 1   name           4951 non-null   object \n",
      " 2   diet           3596 non-null   object \n",
      " 3   type           3596 non-null   object \n",
      " 4   length_m       3568 non-null   float64\n",
      " 5   max_ma         4951 non-null   float64\n",
      " 6   min_ma         4951 non-null   float64\n",
      " 7   region         4909 non-null   object \n",
      " 8   lng            4951 non-null   float64\n",
      " 9   lat            4951 non-null   float64\n",
      " 10  class          4951 non-null   object \n",
      " 11  family         3494 non-null   object \n",
      "dtypes: float64(5), int64(1), object(6)\n",
      "memory usage: 464.3+ KB\n"
     ]
    }
   ],
   "source": [
    "#check for data types \n",
    "dinosaurs.info()"
   ]
  },
  {
   "cell_type": "markdown",
   "metadata": {},
   "source": [
    "#### 1) How many different dinosaur names are present in the data?\n",
    "-1042 dinosaur names are unique"
   ]
  },
  {
   "cell_type": "code",
   "execution_count": 4,
   "metadata": {},
   "outputs": [
    {
     "data": {
      "text/plain": [
       "1042"
      ]
     },
     "execution_count": 4,
     "metadata": {},
     "output_type": "execute_result"
    }
   ],
   "source": [
    "dinosaurs['name'].unique().size"
   ]
  },
  {
   "cell_type": "markdown",
   "metadata": {},
   "source": [
    "-Top 5 more repetitive names in the dataset"
   ]
  },
  {
   "cell_type": "code",
   "execution_count": 5,
   "metadata": {},
   "outputs": [
    {
     "data": {
      "text/plain": [
       "name\n",
       "Richardoestesia      151\n",
       "Saurornitholestes    136\n",
       "Triceratops          125\n",
       "Iguanodon            111\n",
       "Troodon              111\n",
       "Name: count, dtype: int64"
      ]
     },
     "execution_count": 5,
     "metadata": {},
     "output_type": "execute_result"
    }
   ],
   "source": [
    "dinosaurs['name'].value_counts().head()"
   ]
  },
  {
   "cell_type": "markdown",
   "metadata": {},
   "source": [
    "#### 2) Which was the largest dinosaur? What about missing data in the dataset?"
   ]
  },
  {
   "cell_type": "code",
   "execution_count": 6,
   "metadata": {},
   "outputs": [
    {
     "data": {
      "text/html": [
       "<div>\n",
       "<style scoped>\n",
       "    .dataframe tbody tr th:only-of-type {\n",
       "        vertical-align: middle;\n",
       "    }\n",
       "\n",
       "    .dataframe tbody tr th {\n",
       "        vertical-align: top;\n",
       "    }\n",
       "\n",
       "    .dataframe thead th {\n",
       "        text-align: right;\n",
       "    }\n",
       "</style>\n",
       "<table border=\"1\" class=\"dataframe\">\n",
       "  <thead>\n",
       "    <tr style=\"text-align: right;\">\n",
       "      <th></th>\n",
       "      <th>occurrence_no</th>\n",
       "      <th>name</th>\n",
       "      <th>diet</th>\n",
       "      <th>type</th>\n",
       "      <th>length_m</th>\n",
       "      <th>max_ma</th>\n",
       "      <th>min_ma</th>\n",
       "      <th>region</th>\n",
       "      <th>lng</th>\n",
       "      <th>lat</th>\n",
       "      <th>class</th>\n",
       "      <th>family</th>\n",
       "    </tr>\n",
       "  </thead>\n",
       "  <tbody>\n",
       "    <tr>\n",
       "      <th>570</th>\n",
       "      <td>465134</td>\n",
       "      <td>Supersaurus</td>\n",
       "      <td>herbivorous</td>\n",
       "      <td>sauropod</td>\n",
       "      <td>35.0</td>\n",
       "      <td>155.7</td>\n",
       "      <td>145.0</td>\n",
       "      <td>Colorado</td>\n",
       "      <td>-108.397202</td>\n",
       "      <td>38.583099</td>\n",
       "      <td>Saurischia</td>\n",
       "      <td>Diplodocidae</td>\n",
       "    </tr>\n",
       "    <tr>\n",
       "      <th>924</th>\n",
       "      <td>489575</td>\n",
       "      <td>Supersaurus</td>\n",
       "      <td>herbivorous</td>\n",
       "      <td>sauropod</td>\n",
       "      <td>35.0</td>\n",
       "      <td>155.7</td>\n",
       "      <td>145.0</td>\n",
       "      <td>Estremadura</td>\n",
       "      <td>-9.343696</td>\n",
       "      <td>39.216393</td>\n",
       "      <td>Saurischia</td>\n",
       "      <td>Diplodocidae</td>\n",
       "    </tr>\n",
       "    <tr>\n",
       "      <th>1165</th>\n",
       "      <td>513500</td>\n",
       "      <td>Argentinosaurus</td>\n",
       "      <td>herbivorous</td>\n",
       "      <td>sauropod</td>\n",
       "      <td>35.0</td>\n",
       "      <td>99.6</td>\n",
       "      <td>89.8</td>\n",
       "      <td>Neuquén</td>\n",
       "      <td>-69.059998</td>\n",
       "      <td>-38.916672</td>\n",
       "      <td>Saurischia</td>\n",
       "      <td>NaN</td>\n",
       "    </tr>\n",
       "    <tr>\n",
       "      <th>1423</th>\n",
       "      <td>541209</td>\n",
       "      <td>Supersaurus</td>\n",
       "      <td>herbivorous</td>\n",
       "      <td>sauropod</td>\n",
       "      <td>35.0</td>\n",
       "      <td>157.3</td>\n",
       "      <td>145.0</td>\n",
       "      <td>Colorado</td>\n",
       "      <td>-109.036133</td>\n",
       "      <td>39.200081</td>\n",
       "      <td>Saurischia</td>\n",
       "      <td>Diplodocidae</td>\n",
       "    </tr>\n",
       "    <tr>\n",
       "      <th>1972</th>\n",
       "      <td>693186</td>\n",
       "      <td>Supersaurus</td>\n",
       "      <td>herbivorous</td>\n",
       "      <td>sauropod</td>\n",
       "      <td>35.0</td>\n",
       "      <td>157.3</td>\n",
       "      <td>145.0</td>\n",
       "      <td>Wyoming</td>\n",
       "      <td>-105.439041</td>\n",
       "      <td>42.629375</td>\n",
       "      <td>Saurischia</td>\n",
       "      <td>Diplodocidae</td>\n",
       "    </tr>\n",
       "  </tbody>\n",
       "</table>\n",
       "</div>"
      ],
      "text/plain": [
       "      occurrence_no             name         diet      type  length_m  max_ma  \\\n",
       "570          465134      Supersaurus  herbivorous  sauropod      35.0   155.7   \n",
       "924          489575      Supersaurus  herbivorous  sauropod      35.0   155.7   \n",
       "1165         513500  Argentinosaurus  herbivorous  sauropod      35.0    99.6   \n",
       "1423         541209      Supersaurus  herbivorous  sauropod      35.0   157.3   \n",
       "1972         693186      Supersaurus  herbivorous  sauropod      35.0   157.3   \n",
       "\n",
       "      min_ma       region         lng        lat       class        family  \n",
       "570    145.0     Colorado -108.397202  38.583099  Saurischia  Diplodocidae  \n",
       "924    145.0  Estremadura   -9.343696  39.216393  Saurischia  Diplodocidae  \n",
       "1165    89.8      Neuquén  -69.059998 -38.916672  Saurischia           NaN  \n",
       "1423   145.0     Colorado -109.036133  39.200081  Saurischia  Diplodocidae  \n",
       "1972   145.0      Wyoming -105.439041  42.629375  Saurischia  Diplodocidae  "
      ]
     },
     "execution_count": 6,
     "metadata": {},
     "output_type": "execute_result"
    }
   ],
   "source": [
    "#max lenght with current missing values\n",
    "dinosaurs[dinosaurs['length_m']==dinosaurs['length_m'].max()]"
   ]
  },
  {
   "cell_type": "markdown",
   "metadata": {},
   "source": [
    "-The largest dinosaur for the 155.7-145 period was the Supersaurus with 35m\n",
    "-The largest dinosaur for the 99.6-89.8 period was the 89.8 with 35m"
   ]
  },
  {
   "cell_type": "code",
   "execution_count": 7,
   "metadata": {},
   "outputs": [
    {
     "data": {
      "text/plain": [
       "occurrence_no       0\n",
       "name                0\n",
       "diet             1355\n",
       "type             1355\n",
       "length_m         1383\n",
       "max_ma              0\n",
       "min_ma              0\n",
       "region             42\n",
       "lng                 0\n",
       "lat                 0\n",
       "class               0\n",
       "family           1457\n",
       "dtype: int64"
      ]
     },
     "execution_count": 7,
     "metadata": {},
     "output_type": "execute_result"
    }
   ],
   "source": [
    "#check for missing values\n",
    "dinosaurs.isna().sum()"
   ]
  },
  {
   "cell_type": "markdown",
   "metadata": {},
   "source": [
    "We have some missing values in family that aren't shared missing values in diet or type column, but we cannot replace them whitout second thought cause their type and their diet could variete even if they share the same family, but we can fill missing values in the type category, because the family categories enter in one of the types categories."
   ]
  },
  {
   "cell_type": "code",
   "execution_count": 8,
   "metadata": {},
   "outputs": [],
   "source": [
    "family_type = dinosaurs.groupby(['family'])['type'].first()\n",
    "new=dinosaurs.merge(family_type, on='family', how='left')\n",
    "dinosaurs['type'] = dinosaurs['type'].fillna(new['type_y'])"
   ]
  },
  {
   "cell_type": "code",
   "execution_count": 9,
   "metadata": {},
   "outputs": [
    {
     "data": {
      "text/plain": [
       "occurrence_no       0\n",
       "name                0\n",
       "diet             1355\n",
       "type              828\n",
       "length_m         1383\n",
       "max_ma              0\n",
       "min_ma              0\n",
       "region             42\n",
       "lng                 0\n",
       "lat                 0\n",
       "class               0\n",
       "family           1457\n",
       "dtype: int64"
      ]
     },
     "execution_count": 9,
     "metadata": {},
     "output_type": "execute_result"
    }
   ],
   "source": [
    "dinosaurs.isna().sum()"
   ]
  },
  {
   "cell_type": "code",
   "execution_count": 10,
   "metadata": {},
   "outputs": [],
   "source": [
    "#there is 1383-828 = 555 length_m that could be fill with the average of the dinosaur type \n",
    "type_mean = dinosaurs.groupby(['type'])['length_m'].mean()\n",
    "new_length = pd.merge(dinosaurs, type_mean, on='type', how='left')\n",
    "dinosaurs['length_m'] = dinosaurs['length_m'].fillna(new_length['length_m_y'])"
   ]
  },
  {
   "cell_type": "code",
   "execution_count": 11,
   "metadata": {},
   "outputs": [
    {
     "data": {
      "text/plain": [
       "occurrence_no       0\n",
       "name                0\n",
       "diet             1355\n",
       "type              828\n",
       "length_m          828\n",
       "max_ma              0\n",
       "min_ma              0\n",
       "region             42\n",
       "lng                 0\n",
       "lat                 0\n",
       "class               0\n",
       "family           1457\n",
       "dtype: int64"
      ]
     },
     "execution_count": 11,
     "metadata": {},
     "output_type": "execute_result"
    }
   ],
   "source": [
    "dinosaurs.isna().sum()"
   ]
  },
  {
   "cell_type": "code",
   "execution_count": 12,
   "metadata": {},
   "outputs": [],
   "source": [
    "type_diet = dinosaurs.groupby(['type'])['diet'].first()\n",
    "new_diet = pd.merge(dinosaurs, type_diet, on='type', how='left')\n",
    "dinosaurs['diet'] = dinosaurs['diet'].fillna(new_diet['diet_y'])"
   ]
  },
  {
   "cell_type": "code",
   "execution_count": 13,
   "metadata": {},
   "outputs": [
    {
     "data": {
      "text/plain": [
       "occurrence_no       0\n",
       "name                0\n",
       "diet              828\n",
       "type              828\n",
       "length_m          828\n",
       "max_ma              0\n",
       "min_ma              0\n",
       "region             42\n",
       "lng                 0\n",
       "lat                 0\n",
       "class               0\n",
       "family           1457\n",
       "dtype: int64"
      ]
     },
     "execution_count": 13,
     "metadata": {},
     "output_type": "execute_result"
    }
   ],
   "source": [
    "dinosaurs.isna().sum()"
   ]
  },
  {
   "cell_type": "markdown",
   "metadata": {},
   "source": [
    "I'm not applying the fillna method to the region, because the same type, diet and size dinosaur could be ubicated in diferent regions, and by comparing the lat and long of some other values found a row to verify the effectiveness (2123)"
   ]
  },
  {
   "cell_type": "code",
   "execution_count": null,
   "metadata": {},
   "outputs": [],
   "source": [
    "#780870 is located in region Mafeteng\n",
    "# type_region = dinosaurs.groupby(['type','diet','length_m'])['region'].first()\n",
    "# new_region = pd.merge(dinosaurs, type_region, on=['type','diet','length_m'], how='left')\n",
    "# dinosaurs['region'] = dinosaurs['region'].fillna(new_region['region_y'])"
   ]
  },
  {
   "cell_type": "code",
   "execution_count": 14,
   "metadata": {},
   "outputs": [
    {
     "data": {
      "text/html": [
       "<div>\n",
       "<style scoped>\n",
       "    .dataframe tbody tr th:only-of-type {\n",
       "        vertical-align: middle;\n",
       "    }\n",
       "\n",
       "    .dataframe tbody tr th {\n",
       "        vertical-align: top;\n",
       "    }\n",
       "\n",
       "    .dataframe thead th {\n",
       "        text-align: right;\n",
       "    }\n",
       "</style>\n",
       "<table border=\"1\" class=\"dataframe\">\n",
       "  <thead>\n",
       "    <tr style=\"text-align: right;\">\n",
       "      <th></th>\n",
       "      <th>occurrence_no</th>\n",
       "      <th>name</th>\n",
       "      <th>diet</th>\n",
       "      <th>type</th>\n",
       "      <th>length_m</th>\n",
       "      <th>max_ma</th>\n",
       "      <th>min_ma</th>\n",
       "      <th>region</th>\n",
       "      <th>lng</th>\n",
       "      <th>lat</th>\n",
       "      <th>class</th>\n",
       "      <th>family</th>\n",
       "    </tr>\n",
       "  </thead>\n",
       "  <tbody>\n",
       "    <tr>\n",
       "      <th>2123</th>\n",
       "      <td>780870</td>\n",
       "      <td>Kainomoyenisauropus</td>\n",
       "      <td>herbivorous</td>\n",
       "      <td>sauropod</td>\n",
       "      <td>17.842169</td>\n",
       "      <td>199.3</td>\n",
       "      <td>190.8</td>\n",
       "      <td>NaN</td>\n",
       "      <td>27.25</td>\n",
       "      <td>-29.850000</td>\n",
       "      <td>Saurischia</td>\n",
       "      <td>Anchisauridae</td>\n",
       "    </tr>\n",
       "    <tr>\n",
       "      <th>2671</th>\n",
       "      <td>1163999</td>\n",
       "      <td>Thecodontosaurus</td>\n",
       "      <td>omnivorous</td>\n",
       "      <td>sauropod</td>\n",
       "      <td>2.500000</td>\n",
       "      <td>201.3</td>\n",
       "      <td>190.8</td>\n",
       "      <td>Mafeteng</td>\n",
       "      <td>27.25</td>\n",
       "      <td>-29.816668</td>\n",
       "      <td>Saurischia</td>\n",
       "      <td>NaN</td>\n",
       "    </tr>\n",
       "    <tr>\n",
       "      <th>3180</th>\n",
       "      <td>297698</td>\n",
       "      <td>Lesothosaurus</td>\n",
       "      <td>herbivorous</td>\n",
       "      <td>ornithopod</td>\n",
       "      <td>1.000000</td>\n",
       "      <td>201.3</td>\n",
       "      <td>190.8</td>\n",
       "      <td>Mafeteng</td>\n",
       "      <td>27.25</td>\n",
       "      <td>-29.850000</td>\n",
       "      <td>Ornithischia</td>\n",
       "      <td>NaN</td>\n",
       "    </tr>\n",
       "    <tr>\n",
       "      <th>3905</th>\n",
       "      <td>534993</td>\n",
       "      <td>Lesothosaurus</td>\n",
       "      <td>herbivorous</td>\n",
       "      <td>ornithopod</td>\n",
       "      <td>1.000000</td>\n",
       "      <td>201.3</td>\n",
       "      <td>190.8</td>\n",
       "      <td>Mafeteng</td>\n",
       "      <td>27.25</td>\n",
       "      <td>-29.850000</td>\n",
       "      <td>Ornithischia</td>\n",
       "      <td>NaN</td>\n",
       "    </tr>\n",
       "  </tbody>\n",
       "</table>\n",
       "</div>"
      ],
      "text/plain": [
       "      occurrence_no                 name         diet        type   length_m  \\\n",
       "2123         780870  Kainomoyenisauropus  herbivorous    sauropod  17.842169   \n",
       "2671        1163999     Thecodontosaurus   omnivorous    sauropod   2.500000   \n",
       "3180         297698        Lesothosaurus  herbivorous  ornithopod   1.000000   \n",
       "3905         534993        Lesothosaurus  herbivorous  ornithopod   1.000000   \n",
       "\n",
       "      max_ma  min_ma    region    lng        lat         class         family  \n",
       "2123   199.3   190.8       NaN  27.25 -29.850000    Saurischia  Anchisauridae  \n",
       "2671   201.3   190.8  Mafeteng  27.25 -29.816668    Saurischia            NaN  \n",
       "3180   201.3   190.8  Mafeteng  27.25 -29.850000  Ornithischia            NaN  \n",
       "3905   201.3   190.8  Mafeteng  27.25 -29.850000  Ornithischia            NaN  "
      ]
     },
     "execution_count": 14,
     "metadata": {},
     "output_type": "execute_result"
    }
   ],
   "source": [
    "#lng 27.25 lat -29.85\n",
    "dinosaurs[dinosaurs['lng']==27.25]"
   ]
  },
  {
   "cell_type": "code",
   "execution_count": 15,
   "metadata": {},
   "outputs": [],
   "source": [
    "dinosaurs[dinosaurs['occurrence_no']==780870] = dinosaurs[dinosaurs['occurrence_no']==780870].fillna('Mafeteng')"
   ]
  },
  {
   "cell_type": "code",
   "execution_count": 16,
   "metadata": {},
   "outputs": [],
   "source": [
    "type_family = dinosaurs.groupby(['type','diet','length_m','region'])['family'].first()\n",
    "new_family = pd.merge(dinosaurs, type_family, on=['type','diet','length_m','region'], how='left')\n",
    "dinosaurs['family'] = dinosaurs['family'].fillna(new_family['family_y'])"
   ]
  },
  {
   "cell_type": "code",
   "execution_count": 17,
   "metadata": {},
   "outputs": [
    {
     "data": {
      "text/plain": [
       "occurrence_no       0\n",
       "name                0\n",
       "diet              828\n",
       "type              828\n",
       "length_m          828\n",
       "max_ma              0\n",
       "min_ma              0\n",
       "region             41\n",
       "lng                 0\n",
       "lat                 0\n",
       "class               0\n",
       "family           1351\n",
       "dtype: int64"
      ]
     },
     "execution_count": 17,
     "metadata": {},
     "output_type": "execute_result"
    }
   ],
   "source": [
    "dinosaurs.isna().sum()"
   ]
  },
  {
   "cell_type": "markdown",
   "metadata": {},
   "source": [
    "Fill in missing values with similar values that give certainty about the filling like in diet, type, length_m and family. The type was based on family which had a lot a categories to differentiate, diet and length where based on type, region isn't logical to fill with based on that info, and family was filled taking region into account to have better results."
   ]
  },
  {
   "cell_type": "code",
   "execution_count": 18,
   "metadata": {},
   "outputs": [
    {
     "data": {
      "text/plain": [
       "occurrence_no    0\n",
       "name             0\n",
       "diet             0\n",
       "type             0\n",
       "length_m         0\n",
       "max_ma           0\n",
       "min_ma           0\n",
       "region           0\n",
       "lng              0\n",
       "lat              0\n",
       "class            0\n",
       "family           0\n",
       "dtype: int64"
      ]
     },
     "execution_count": 18,
     "metadata": {},
     "output_type": "execute_result"
    }
   ],
   "source": [
    "#drop rows with missing values \n",
    "new_dinosaurs = dinosaurs.dropna(subset=['family'])\n",
    "new_dinosaurs = new_dinosaurs.dropna(subset=['diet'])\n",
    "new_dinosaurs = new_dinosaurs.dropna(subset=['region'])\n",
    "new_dinosaurs.isna().sum()"
   ]
  },
  {
   "cell_type": "markdown",
   "metadata": {},
   "source": [
    "Then we just drop the rest of values in a new dataframe, and work with either of them depending on the analysis we need"
   ]
  },
  {
   "cell_type": "code",
   "execution_count": 19,
   "metadata": {},
   "outputs": [
    {
     "data": {
      "text/plain": [
       "3429"
      ]
     },
     "execution_count": 19,
     "metadata": {},
     "output_type": "execute_result"
    }
   ],
   "source": [
    "new_dinosaurs.shape[0]"
   ]
  },
  {
   "cell_type": "markdown",
   "metadata": {},
   "source": [
    "What dinosaur type has the most occurrences in this dataset? Create a visualization (table, bar chart, or equivalent) to display the number of dinosaurs per type."
   ]
  },
  {
   "cell_type": "code",
   "execution_count": 22,
   "metadata": {},
   "outputs": [],
   "source": [
    "import seaborn as sns \n",
    "import matplotlib.pyplot as plt"
   ]
  },
  {
   "cell_type": "code",
   "execution_count": 21,
   "metadata": {},
   "outputs": [
    {
     "data": {
      "text/html": [
       "<div>\n",
       "<style scoped>\n",
       "    .dataframe tbody tr th:only-of-type {\n",
       "        vertical-align: middle;\n",
       "    }\n",
       "\n",
       "    .dataframe tbody tr th {\n",
       "        vertical-align: top;\n",
       "    }\n",
       "\n",
       "    .dataframe thead th {\n",
       "        text-align: right;\n",
       "    }\n",
       "</style>\n",
       "<table border=\"1\" class=\"dataframe\">\n",
       "  <thead>\n",
       "    <tr style=\"text-align: right;\">\n",
       "      <th></th>\n",
       "      <th>type</th>\n",
       "      <th>occurrence_no</th>\n",
       "    </tr>\n",
       "  </thead>\n",
       "  <tbody>\n",
       "    <tr>\n",
       "      <th>0</th>\n",
       "      <td>armored dinosaur</td>\n",
       "      <td>360</td>\n",
       "    </tr>\n",
       "    <tr>\n",
       "      <th>1</th>\n",
       "      <td>ceratopsian</td>\n",
       "      <td>434</td>\n",
       "    </tr>\n",
       "    <tr>\n",
       "      <th>2</th>\n",
       "      <td>large theropod</td>\n",
       "      <td>809</td>\n",
       "    </tr>\n",
       "    <tr>\n",
       "      <th>3</th>\n",
       "      <td>ornithopod</td>\n",
       "      <td>904</td>\n",
       "    </tr>\n",
       "    <tr>\n",
       "      <th>4</th>\n",
       "      <td>sauropod</td>\n",
       "      <td>759</td>\n",
       "    </tr>\n",
       "    <tr>\n",
       "      <th>5</th>\n",
       "      <td>small theropod</td>\n",
       "      <td>857</td>\n",
       "    </tr>\n",
       "  </tbody>\n",
       "</table>\n",
       "</div>"
      ],
      "text/plain": [
       "               type  occurrence_no\n",
       "0  armored dinosaur            360\n",
       "1       ceratopsian            434\n",
       "2    large theropod            809\n",
       "3        ornithopod            904\n",
       "4          sauropod            759\n",
       "5    small theropod            857"
      ]
     },
     "execution_count": 21,
     "metadata": {},
     "output_type": "execute_result"
    }
   ],
   "source": [
    "types = dinosaurs.groupby('type').agg({'occurrence_no':'count'}).reset_index()\n",
    "types"
   ]
  },
  {
   "cell_type": "code",
   "execution_count": 23,
   "metadata": {},
   "outputs": [
    {
     "name": "stderr",
     "output_type": "stream",
     "text": [
      "C:\\Users\\AsusU\\AppData\\Local\\Temp\\ipykernel_18796\\3816629401.py:6: FutureWarning: \n",
      "\n",
      "Passing `palette` without assigning `hue` is deprecated and will be removed in v0.14.0. Assign the `x` variable to `hue` and set `legend=False` for the same effect.\n",
      "\n",
      "  sns.barplot(ax=axes[1], x=types['type'] ,y=types['occurrence_no'], data=types, palette='viridis')\n"
     ]
    },
    {
     "data": {
      "image/png": "[encoded data removed]",
      "text/plain": [
       "<Figure size 1400x600 with 2 Axes>"
      ]
     },
     "metadata": {},
     "output_type": "display_data"
    }
   ],
   "source": [
    "fig, axes = plt.subplots(1, 2, figsize=(14, 6))\n",
    "\n",
    "axes[0].pie(types['occurrence_no'], labels=types['type'], autopct='%1.1f%%', startangle=140)\n",
    "axes[0].set_title('Pie chart distribution types of Dinosaurs')\n",
    "\n",
    "sns.barplot(ax=axes[1], x=types['type'] ,y=types['occurrence_no'], data=types, palette='viridis')\n",
    "\n",
    "# Adding title\n",
    "plt.title('Bar chart distribution types of Dinosaurs')\n",
    "plt.tight_layout()\n",
    "\n",
    "# Show the plot\n",
    "plt.show()"
   ]
  },
  {
   "cell_type": "markdown",
   "metadata": {},
   "source": [
    "-Dinosaur type that appear more in the dataset is Ornithopod"
   ]
  },
  {
   "cell_type": "markdown",
   "metadata": {},
   "source": [
    "#### Did dinosaurs get bigger over time? Show the relation between the dinosaur length and their age to illustrate this"
   ]
  },
  {
   "cell_type": "code",
   "execution_count": 24,
   "metadata": {},
   "outputs": [
    {
     "data": {
      "text/html": [
       "<div>\n",
       "<style scoped>\n",
       "    .dataframe tbody tr th:only-of-type {\n",
       "        vertical-align: middle;\n",
       "    }\n",
       "\n",
       "    .dataframe tbody tr th {\n",
       "        vertical-align: top;\n",
       "    }\n",
       "\n",
       "    .dataframe thead th {\n",
       "        text-align: right;\n",
       "    }\n",
       "</style>\n",
       "<table border=\"1\" class=\"dataframe\">\n",
       "  <thead>\n",
       "    <tr style=\"text-align: right;\">\n",
       "      <th></th>\n",
       "      <th>max_ma</th>\n",
       "      <th>min_ma</th>\n",
       "      <th>type</th>\n",
       "      <th>length_m</th>\n",
       "    </tr>\n",
       "  </thead>\n",
       "  <tbody>\n",
       "    <tr>\n",
       "      <th>0</th>\n",
       "      <td>70.6</td>\n",
       "      <td>66.0</td>\n",
       "      <td>armored dinosaur</td>\n",
       "      <td>5.662308</td>\n",
       "    </tr>\n",
       "    <tr>\n",
       "      <th>1</th>\n",
       "      <td>70.6</td>\n",
       "      <td>66.0</td>\n",
       "      <td>ceratopsian</td>\n",
       "      <td>8.037649</td>\n",
       "    </tr>\n",
       "    <tr>\n",
       "      <th>2</th>\n",
       "      <td>70.6</td>\n",
       "      <td>66.0</td>\n",
       "      <td>large theropod</td>\n",
       "      <td>7.560278</td>\n",
       "    </tr>\n",
       "    <tr>\n",
       "      <th>3</th>\n",
       "      <td>70.6</td>\n",
       "      <td>66.0</td>\n",
       "      <td>ornithopod</td>\n",
       "      <td>6.619732</td>\n",
       "    </tr>\n",
       "    <tr>\n",
       "      <th>4</th>\n",
       "      <td>70.6</td>\n",
       "      <td>66.0</td>\n",
       "      <td>sauropod</td>\n",
       "      <td>19.488726</td>\n",
       "    </tr>\n",
       "    <tr>\n",
       "      <th>...</th>\n",
       "      <td>...</td>\n",
       "      <td>...</td>\n",
       "      <td>...</td>\n",
       "      <td>...</td>\n",
       "    </tr>\n",
       "    <tr>\n",
       "      <th>317</th>\n",
       "      <td>237.0</td>\n",
       "      <td>201.3</td>\n",
       "      <td>sauropod</td>\n",
       "      <td>7.000000</td>\n",
       "    </tr>\n",
       "    <tr>\n",
       "      <th>318</th>\n",
       "      <td>237.0</td>\n",
       "      <td>201.3</td>\n",
       "      <td>small theropod</td>\n",
       "      <td>3.000000</td>\n",
       "    </tr>\n",
       "    <tr>\n",
       "      <th>319</th>\n",
       "      <td>237.0</td>\n",
       "      <td>208.5</td>\n",
       "      <td>small theropod</td>\n",
       "      <td>2.446771</td>\n",
       "    </tr>\n",
       "    <tr>\n",
       "      <th>320</th>\n",
       "      <td>237.0</td>\n",
       "      <td>228.0</td>\n",
       "      <td>large theropod</td>\n",
       "      <td>2.000000</td>\n",
       "    </tr>\n",
       "    <tr>\n",
       "      <th>321</th>\n",
       "      <td>237.0</td>\n",
       "      <td>228.0</td>\n",
       "      <td>small theropod</td>\n",
       "      <td>2.723386</td>\n",
       "    </tr>\n",
       "  </tbody>\n",
       "</table>\n",
       "<p>322 rows × 4 columns</p>\n",
       "</div>"
      ],
      "text/plain": [
       "     max_ma  min_ma              type   length_m\n",
       "0      70.6    66.0  armored dinosaur   5.662308\n",
       "1      70.6    66.0       ceratopsian   8.037649\n",
       "2      70.6    66.0    large theropod   7.560278\n",
       "3      70.6    66.0        ornithopod   6.619732\n",
       "4      70.6    66.0          sauropod  19.488726\n",
       "..      ...     ...               ...        ...\n",
       "317   237.0   201.3          sauropod   7.000000\n",
       "318   237.0   201.3    small theropod   3.000000\n",
       "319   237.0   208.5    small theropod   2.446771\n",
       "320   237.0   228.0    large theropod   2.000000\n",
       "321   237.0   228.0    small theropod   2.723386\n",
       "\n",
       "[322 rows x 4 columns]"
      ]
     },
     "execution_count": 24,
     "metadata": {},
     "output_type": "execute_result"
    }
   ],
   "source": [
    "time_lenght=new_dinosaurs.groupby(['max_ma','min_ma', 'type']).agg({'length_m':'mean'}).reset_index()\n",
    "time_lenght"
   ]
  },
  {
   "cell_type": "code",
   "execution_count": 25,
   "metadata": {},
   "outputs": [],
   "source": [
    "time_lenght['time_avg'] = (time_lenght['max_ma'] + time_lenght['min_ma']) / 2"
   ]
  },
  {
   "cell_type": "code",
   "execution_count": 26,
   "metadata": {},
   "outputs": [
    {
     "data": {
      "text/plain": [
       "<Axes: xlabel='time_avg', ylabel='length_m'>"
      ]
     },
     "execution_count": 26,
     "metadata": {},
     "output_type": "execute_result"
    },
    {
     "data": {
      "image/png": "[encoded data removed]",
      "text/plain": [
       "<Figure size 640x480 with 1 Axes>"
      ]
     },
     "metadata": {},
     "output_type": "display_data"
    }
   ],
   "source": [
    "sns.scatterplot(data=time_lenght, x=\"time_avg\", y=\"length_m\", hue=\"type\")"
   ]
  },
  {
   "cell_type": "markdown",
   "metadata": {},
   "source": [
    "-Dinosaurs generally remained similar in height throughout most of their time period. Sauropods did exhibit a range of heights, in the period 150 to 175. Large theropods, on the other hand, did show a trend of increasing size over time, although the change may not have been particularly noticeable"
   ]
  }
 ],
 "metadata": {
  "kernelspec": {
   "display_name": "minimal_ds",
   "language": "python",
   "name": "python3"
  },
  "language_info": {
   "codemirror_mode": {
    "name": "ipython",
    "version": 3
   },
   "file_extension": ".py",
   "mimetype": "text/x-python",
   "name": "python",
   "nbconvert_exporter": "python",
   "pygments_lexer": "ipython3",
   "version": "3.12.2"
  }
 },
 "nbformat": 4,
 "nbformat_minor": 2
}
